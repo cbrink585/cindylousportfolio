{
 "cells": [
  {
   "cell_type": "code",
   "execution_count": 1,
   "id": "8379d43b",
   "metadata": {
    "pycharm": {
     "name": "#%%\n"
    }
   },
   "outputs": [],
   "source": [
    "import pandas as pd\n",
    "import numpy as np"
   ]
  },
  {
   "cell_type": "code",
   "execution_count": 2,
   "id": "1721e7f8",
   "metadata": {
    "pycharm": {
     "name": "#%%\n"
    }
   },
   "outputs": [
    {
     "name": "stdout",
     "output_type": "stream",
     "text": [
      "               citation        book  chapter  verse  \\\n",
      "0           Genesis 1:1     Genesis        1      1   \n",
      "1           Genesis 1:2     Genesis        1      2   \n",
      "2           Genesis 1:3     Genesis        1      3   \n",
      "3           Genesis 1:4     Genesis        1      4   \n",
      "4           Genesis 1:5     Genesis        1      5   \n",
      "...                 ...         ...      ...    ...   \n",
      "31097  Revelation 22:17  Revelation       22     17   \n",
      "31098  Revelation 22:18  Revelation       22     18   \n",
      "31099  Revelation 22:19  Revelation       22     19   \n",
      "31100  Revelation 22:20  Revelation       22     20   \n",
      "31101  Revelation 22:21  Revelation       22     21   \n",
      "\n",
      "                                                    text  \n",
      "0      In the beginning God created the heaven and th...  \n",
      "1      And the earth was without form, and void; and ...  \n",
      "2      And God said, Let there be light: and there wa...  \n",
      "3      And God saw the light, that it was good: and G...  \n",
      "4      And God called the light Day, and the darkness...  \n",
      "...                                                  ...  \n",
      "31097  And the Spirit and the bride say, Come. And le...  \n",
      "31098  For I testify unto every man that heareth the ...  \n",
      "31099  And if any man shall take away from the words ...  \n",
      "31100  He which testifieth these things saith, Surely...  \n",
      "31101  The grace of our Lord Jesus Christ be with you...  \n",
      "\n",
      "[31102 rows x 5 columns]\n"
     ]
    }
   ],
   "source": [
    "data_df = pd.read_csv('bible_data_set.csv')\n",
    "\n",
    "print(data_df)"
   ]
  },
  {
   "cell_type": "code",
   "execution_count": 3,
   "id": "5025675d",
   "metadata": {
    "pycharm": {
     "name": "#%%\n"
    }
   },
   "outputs": [
    {
     "name": "stdout",
     "output_type": "stream",
     "text": [
      "       citation   book  chapter  verse   text\n",
      "0         False  False    False  False  False\n",
      "1         False  False    False  False  False\n",
      "2         False  False    False  False  False\n",
      "3         False  False    False  False  False\n",
      "4         False  False    False  False  False\n",
      "...         ...    ...      ...    ...    ...\n",
      "31097     False  False    False  False  False\n",
      "31098     False  False    False  False  False\n",
      "31099     False  False    False  False  False\n",
      "31100     False  False    False  False  False\n",
      "31101     False  False    False  False  False\n",
      "\n",
      "[31102 rows x 5 columns]\n"
     ]
    }
   ],
   "source": [
    "#1- Looking for missing values.\n",
    "print(data_df.isnull())#Looks good- no missing values."
   ]
  },
  {
   "cell_type": "code",
   "execution_count": 4,
   "id": "ac64a504",
   "metadata": {
    "pycharm": {
     "name": "#%%\n"
    }
   },
   "outputs": [
    {
     "name": "stdout",
     "output_type": "stream",
     "text": [
      "citation    0\n",
      "book        0\n",
      "chapter     0\n",
      "verse       0\n",
      "text        0\n",
      "dtype: int64\n"
     ]
    }
   ],
   "source": [
    "#1.b - To be sure missing values aren't where we can't see them\n",
    "print(data_df.isnull().sum())#Looks good!"
   ]
  },
  {
   "cell_type": "code",
   "execution_count": 5,
   "id": "bfd9d9ba",
   "metadata": {
    "pycharm": {
     "name": "#%%\n"
    }
   },
   "outputs": [
    {
     "name": "stdout",
     "output_type": "stream",
     "text": [
      "0        False\n",
      "1        False\n",
      "2        False\n",
      "3        False\n",
      "4        False\n",
      "         ...  \n",
      "31097    False\n",
      "31098    False\n",
      "31099    False\n",
      "31100    False\n",
      "31101    False\n",
      "Length: 31102, dtype: bool\n"
     ]
    }
   ],
   "source": [
    "#2 - Identify duplicate records.\n",
    "print(data_df.duplicated())#Looks good, but maybe they are duplicated where we can't see them."
   ]
  },
  {
   "cell_type": "code",
   "execution_count": 6,
   "id": "19b0c109",
   "metadata": {
    "pycharm": {
     "name": "#%%\n"
    }
   },
   "outputs": [
    {
     "name": "stdout",
     "output_type": "stream",
     "text": [
      "<bound method NDFrame._add_numeric_operations.<locals>.sum of 0        False\n",
      "1        False\n",
      "2        False\n",
      "3        False\n",
      "4        False\n",
      "         ...  \n",
      "31097    False\n",
      "31098    False\n",
      "31099    False\n",
      "31100    False\n",
      "31101    False\n",
      "Length: 31102, dtype: bool>\n"
     ]
    }
   ],
   "source": [
    "#2.b - Count duplicate records\n",
    "print(data_df.duplicated().sum)#Looks good- no duplicates."
   ]
  },
  {
   "cell_type": "code",
   "execution_count": 7,
   "id": "71db1e9f",
   "metadata": {
    "pycharm": {
     "name": "#%%\n"
    }
   },
   "outputs": [],
   "source": [
    "#3 - Trim whitespace.\n",
    "data_df['text'] = data_df['text'].str.strip()"
   ]
  },
  {
   "cell_type": "code",
   "execution_count": 8,
   "id": "e5921e8e",
   "metadata": {
    "pycharm": {
     "name": "#%%\n"
    }
   },
   "outputs": [
    {
     "name": "stdout",
     "output_type": "stream",
     "text": [
      "               citation        book  chapter  verse  \\\n",
      "0           Genesis 1:1     Genesis        1      1   \n",
      "1           Genesis 1:2     Genesis        1      2   \n",
      "2           Genesis 1:3     Genesis        1      3   \n",
      "3           Genesis 1:4     Genesis        1      4   \n",
      "4           Genesis 1:5     Genesis        1      5   \n",
      "...                 ...         ...      ...    ...   \n",
      "31097  Revelation 22:17  Revelation       22     17   \n",
      "31098  Revelation 22:18  Revelation       22     18   \n",
      "31099  Revelation 22:19  Revelation       22     19   \n",
      "31100  Revelation 22:20  Revelation       22     20   \n",
      "31101  Revelation 22:21  Revelation       22     21   \n",
      "\n",
      "                                                    text  \n",
      "0      In the beginning God created the heaven and th...  \n",
      "1      And the earth was without form, and void; and ...  \n",
      "2      And God said, Let there be light: and there wa...  \n",
      "3      And God saw the light, that it was good: and G...  \n",
      "4      And God called the light Day, and the darkness...  \n",
      "...                                                  ...  \n",
      "31097  And the Spirit and the bride say, Come. And le...  \n",
      "31098  For I testify unto every man that heareth the ...  \n",
      "31099  And if any man shall take away from the words ...  \n",
      "31100  He which testifieth these things saith, Surely...  \n",
      "31101  The grace of our Lord Jesus Christ be with you...  \n",
      "\n",
      "[31102 rows x 5 columns]\n"
     ]
    }
   ],
   "source": [
    "print(data_df)"
   ]
  },
  {
   "cell_type": "code",
   "execution_count": 9,
   "id": "2e83cb4f",
   "metadata": {
    "pycharm": {
     "name": "#%%\n"
    }
   },
   "outputs": [
    {
     "data": {
      "text/html": [
       "<div>\n",
       "<style scoped>\n",
       "    .dataframe tbody tr th:only-of-type {\n",
       "        vertical-align: middle;\n",
       "    }\n",
       "\n",
       "    .dataframe tbody tr th {\n",
       "        vertical-align: top;\n",
       "    }\n",
       "\n",
       "    .dataframe thead th {\n",
       "        text-align: right;\n",
       "    }\n",
       "</style>\n",
       "<table border=\"1\" class=\"dataframe\">\n",
       "  <thead>\n",
       "    <tr style=\"text-align: right;\">\n",
       "      <th></th>\n",
       "      <th>citation</th>\n",
       "      <th>book</th>\n",
       "      <th>chapter</th>\n",
       "      <th>verse</th>\n",
       "      <th>text</th>\n",
       "    </tr>\n",
       "  </thead>\n",
       "  <tbody>\n",
       "    <tr>\n",
       "      <th>0</th>\n",
       "      <td>Genesis 1:1</td>\n",
       "      <td>Genesis</td>\n",
       "      <td>1</td>\n",
       "      <td>1</td>\n",
       "      <td>In the beginning God created the heaven and th...</td>\n",
       "    </tr>\n",
       "    <tr>\n",
       "      <th>1</th>\n",
       "      <td>Genesis 1:2</td>\n",
       "      <td>Genesis</td>\n",
       "      <td>1</td>\n",
       "      <td>2</td>\n",
       "      <td>And the earth was without form, and void; and ...</td>\n",
       "    </tr>\n",
       "    <tr>\n",
       "      <th>2</th>\n",
       "      <td>Genesis 1:3</td>\n",
       "      <td>Genesis</td>\n",
       "      <td>1</td>\n",
       "      <td>3</td>\n",
       "      <td>And God said, Let there be light: and there wa...</td>\n",
       "    </tr>\n",
       "    <tr>\n",
       "      <th>3</th>\n",
       "      <td>Genesis 1:4</td>\n",
       "      <td>Genesis</td>\n",
       "      <td>1</td>\n",
       "      <td>4</td>\n",
       "      <td>And God saw the light, that it was good: and G...</td>\n",
       "    </tr>\n",
       "    <tr>\n",
       "      <th>4</th>\n",
       "      <td>Genesis 1:5</td>\n",
       "      <td>Genesis</td>\n",
       "      <td>1</td>\n",
       "      <td>5</td>\n",
       "      <td>And God called the light Day, and the darkness...</td>\n",
       "    </tr>\n",
       "    <tr>\n",
       "      <th>...</th>\n",
       "      <td>...</td>\n",
       "      <td>...</td>\n",
       "      <td>...</td>\n",
       "      <td>...</td>\n",
       "      <td>...</td>\n",
       "    </tr>\n",
       "    <tr>\n",
       "      <th>31097</th>\n",
       "      <td>Revelation 22:17</td>\n",
       "      <td>Revelation</td>\n",
       "      <td>22</td>\n",
       "      <td>17</td>\n",
       "      <td>And the Spirit and the bride say, Come. And le...</td>\n",
       "    </tr>\n",
       "    <tr>\n",
       "      <th>31098</th>\n",
       "      <td>Revelation 22:18</td>\n",
       "      <td>Revelation</td>\n",
       "      <td>22</td>\n",
       "      <td>18</td>\n",
       "      <td>For I testify unto every man that heareth the ...</td>\n",
       "    </tr>\n",
       "    <tr>\n",
       "      <th>31099</th>\n",
       "      <td>Revelation 22:19</td>\n",
       "      <td>Revelation</td>\n",
       "      <td>22</td>\n",
       "      <td>19</td>\n",
       "      <td>And if any man shall take away from the words ...</td>\n",
       "    </tr>\n",
       "    <tr>\n",
       "      <th>31100</th>\n",
       "      <td>Revelation 22:20</td>\n",
       "      <td>Revelation</td>\n",
       "      <td>22</td>\n",
       "      <td>20</td>\n",
       "      <td>He which testifieth these things saith, Surely...</td>\n",
       "    </tr>\n",
       "    <tr>\n",
       "      <th>31101</th>\n",
       "      <td>Revelation 22:21</td>\n",
       "      <td>Revelation</td>\n",
       "      <td>22</td>\n",
       "      <td>21</td>\n",
       "      <td>The grace of our Lord Jesus Christ be with you...</td>\n",
       "    </tr>\n",
       "  </tbody>\n",
       "</table>\n",
       "<p>31102 rows × 5 columns</p>\n",
       "</div>"
      ],
      "text/plain": [
       "               citation        book  chapter  verse  \\\n",
       "0           Genesis 1:1     Genesis        1      1   \n",
       "1           Genesis 1:2     Genesis        1      2   \n",
       "2           Genesis 1:3     Genesis        1      3   \n",
       "3           Genesis 1:4     Genesis        1      4   \n",
       "4           Genesis 1:5     Genesis        1      5   \n",
       "...                 ...         ...      ...    ...   \n",
       "31097  Revelation 22:17  Revelation       22     17   \n",
       "31098  Revelation 22:18  Revelation       22     18   \n",
       "31099  Revelation 22:19  Revelation       22     19   \n",
       "31100  Revelation 22:20  Revelation       22     20   \n",
       "31101  Revelation 22:21  Revelation       22     21   \n",
       "\n",
       "                                                    text  \n",
       "0      In the beginning God created the heaven and th...  \n",
       "1      And the earth was without form, and void; and ...  \n",
       "2      And God said, Let there be light: and there wa...  \n",
       "3      And God saw the light, that it was good: and G...  \n",
       "4      And God called the light Day, and the darkness...  \n",
       "...                                                  ...  \n",
       "31097  And the Spirit and the bride say, Come. And le...  \n",
       "31098  For I testify unto every man that heareth the ...  \n",
       "31099  And if any man shall take away from the words ...  \n",
       "31100  He which testifieth these things saith, Surely...  \n",
       "31101  The grace of our Lord Jesus Christ be with you...  \n",
       "\n",
       "[31102 rows x 5 columns]"
      ]
     },
     "execution_count": 9,
     "metadata": {},
     "output_type": "execute_result"
    }
   ],
   "source": [
    "data_df"
   ]
  },
  {
   "cell_type": "code",
   "execution_count": 10,
   "id": "cd23ed6c",
   "metadata": {
    "pycharm": {
     "name": "#%%\n"
    }
   },
   "outputs": [],
   "source": [
    "#4 - Column citation contains the book chapter and verse but is repeated in other columns and separated.  Delete the column citation.\n",
    "del data_df['citation']"
   ]
  },
  {
   "cell_type": "code",
   "execution_count": 11,
   "id": "47843311",
   "metadata": {
    "pycharm": {
     "name": "#%%\n"
    }
   },
   "outputs": [
    {
     "data": {
      "text/html": [
       "<div>\n",
       "<style scoped>\n",
       "    .dataframe tbody tr th:only-of-type {\n",
       "        vertical-align: middle;\n",
       "    }\n",
       "\n",
       "    .dataframe tbody tr th {\n",
       "        vertical-align: top;\n",
       "    }\n",
       "\n",
       "    .dataframe thead th {\n",
       "        text-align: right;\n",
       "    }\n",
       "</style>\n",
       "<table border=\"1\" class=\"dataframe\">\n",
       "  <thead>\n",
       "    <tr style=\"text-align: right;\">\n",
       "      <th></th>\n",
       "      <th>book</th>\n",
       "      <th>chapter</th>\n",
       "      <th>verse</th>\n",
       "      <th>text</th>\n",
       "    </tr>\n",
       "  </thead>\n",
       "  <tbody>\n",
       "    <tr>\n",
       "      <th>0</th>\n",
       "      <td>Genesis</td>\n",
       "      <td>1</td>\n",
       "      <td>1</td>\n",
       "      <td>In the beginning God created the heaven and th...</td>\n",
       "    </tr>\n",
       "    <tr>\n",
       "      <th>1</th>\n",
       "      <td>Genesis</td>\n",
       "      <td>1</td>\n",
       "      <td>2</td>\n",
       "      <td>And the earth was without form, and void; and ...</td>\n",
       "    </tr>\n",
       "    <tr>\n",
       "      <th>2</th>\n",
       "      <td>Genesis</td>\n",
       "      <td>1</td>\n",
       "      <td>3</td>\n",
       "      <td>And God said, Let there be light: and there wa...</td>\n",
       "    </tr>\n",
       "    <tr>\n",
       "      <th>3</th>\n",
       "      <td>Genesis</td>\n",
       "      <td>1</td>\n",
       "      <td>4</td>\n",
       "      <td>And God saw the light, that it was good: and G...</td>\n",
       "    </tr>\n",
       "    <tr>\n",
       "      <th>4</th>\n",
       "      <td>Genesis</td>\n",
       "      <td>1</td>\n",
       "      <td>5</td>\n",
       "      <td>And God called the light Day, and the darkness...</td>\n",
       "    </tr>\n",
       "    <tr>\n",
       "      <th>...</th>\n",
       "      <td>...</td>\n",
       "      <td>...</td>\n",
       "      <td>...</td>\n",
       "      <td>...</td>\n",
       "    </tr>\n",
       "    <tr>\n",
       "      <th>31097</th>\n",
       "      <td>Revelation</td>\n",
       "      <td>22</td>\n",
       "      <td>17</td>\n",
       "      <td>And the Spirit and the bride say, Come. And le...</td>\n",
       "    </tr>\n",
       "    <tr>\n",
       "      <th>31098</th>\n",
       "      <td>Revelation</td>\n",
       "      <td>22</td>\n",
       "      <td>18</td>\n",
       "      <td>For I testify unto every man that heareth the ...</td>\n",
       "    </tr>\n",
       "    <tr>\n",
       "      <th>31099</th>\n",
       "      <td>Revelation</td>\n",
       "      <td>22</td>\n",
       "      <td>19</td>\n",
       "      <td>And if any man shall take away from the words ...</td>\n",
       "    </tr>\n",
       "    <tr>\n",
       "      <th>31100</th>\n",
       "      <td>Revelation</td>\n",
       "      <td>22</td>\n",
       "      <td>20</td>\n",
       "      <td>He which testifieth these things saith, Surely...</td>\n",
       "    </tr>\n",
       "    <tr>\n",
       "      <th>31101</th>\n",
       "      <td>Revelation</td>\n",
       "      <td>22</td>\n",
       "      <td>21</td>\n",
       "      <td>The grace of our Lord Jesus Christ be with you...</td>\n",
       "    </tr>\n",
       "  </tbody>\n",
       "</table>\n",
       "<p>31102 rows × 4 columns</p>\n",
       "</div>"
      ],
      "text/plain": [
       "             book  chapter  verse  \\\n",
       "0         Genesis        1      1   \n",
       "1         Genesis        1      2   \n",
       "2         Genesis        1      3   \n",
       "3         Genesis        1      4   \n",
       "4         Genesis        1      5   \n",
       "...           ...      ...    ...   \n",
       "31097  Revelation       22     17   \n",
       "31098  Revelation       22     18   \n",
       "31099  Revelation       22     19   \n",
       "31100  Revelation       22     20   \n",
       "31101  Revelation       22     21   \n",
       "\n",
       "                                                    text  \n",
       "0      In the beginning God created the heaven and th...  \n",
       "1      And the earth was without form, and void; and ...  \n",
       "2      And God said, Let there be light: and there wa...  \n",
       "3      And God saw the light, that it was good: and G...  \n",
       "4      And God called the light Day, and the darkness...  \n",
       "...                                                  ...  \n",
       "31097  And the Spirit and the bride say, Come. And le...  \n",
       "31098  For I testify unto every man that heareth the ...  \n",
       "31099  And if any man shall take away from the words ...  \n",
       "31100  He which testifieth these things saith, Surely...  \n",
       "31101  The grace of our Lord Jesus Christ be with you...  \n",
       "\n",
       "[31102 rows x 4 columns]"
      ]
     },
     "execution_count": 11,
     "metadata": {},
     "output_type": "execute_result"
    }
   ],
   "source": [
    "data_df#View the dataframe to review."
   ]
  },
  {
   "cell_type": "code",
   "execution_count": 12,
   "id": "fea15b68",
   "metadata": {
    "pycharm": {
     "name": "#%%\n"
    }
   },
   "outputs": [
    {
     "name": "stdout",
     "output_type": "stream",
     "text": [
      "Index(['Book', 'Chapters', 'Verse', 'Text'], dtype='object')\n"
     ]
    }
   ],
   "source": [
    "#5 - Rename my columns with capitals.\n",
    "data_df.rename(columns = {'book':'Book', 'chapter':'Chapters', 'verse':'Verse', 'text':'Text'}, inplace = True)\n",
    "print(data_df.columns)"
   ]
  },
  {
   "cell_type": "code",
   "execution_count": 13,
   "id": "23c140dc",
   "metadata": {
    "pycharm": {
     "name": "#%%\n"
    }
   },
   "outputs": [
    {
     "data": {
      "text/html": [
       "<div>\n",
       "<style scoped>\n",
       "    .dataframe tbody tr th:only-of-type {\n",
       "        vertical-align: middle;\n",
       "    }\n",
       "\n",
       "    .dataframe tbody tr th {\n",
       "        vertical-align: top;\n",
       "    }\n",
       "\n",
       "    .dataframe thead th {\n",
       "        text-align: right;\n",
       "    }\n",
       "</style>\n",
       "<table border=\"1\" class=\"dataframe\">\n",
       "  <thead>\n",
       "    <tr style=\"text-align: right;\">\n",
       "      <th></th>\n",
       "      <th>Book</th>\n",
       "      <th>Chapters</th>\n",
       "      <th>Verse</th>\n",
       "      <th>Text</th>\n",
       "    </tr>\n",
       "  </thead>\n",
       "  <tbody>\n",
       "    <tr>\n",
       "      <th>0</th>\n",
       "      <td>Genesis</td>\n",
       "      <td>1</td>\n",
       "      <td>1</td>\n",
       "      <td>In the beginning God created the heaven and th...</td>\n",
       "    </tr>\n",
       "    <tr>\n",
       "      <th>1</th>\n",
       "      <td>Genesis</td>\n",
       "      <td>1</td>\n",
       "      <td>2</td>\n",
       "      <td>And the earth was without form, and void; and ...</td>\n",
       "    </tr>\n",
       "    <tr>\n",
       "      <th>2</th>\n",
       "      <td>Genesis</td>\n",
       "      <td>1</td>\n",
       "      <td>3</td>\n",
       "      <td>And God said, Let there be light: and there wa...</td>\n",
       "    </tr>\n",
       "    <tr>\n",
       "      <th>3</th>\n",
       "      <td>Genesis</td>\n",
       "      <td>1</td>\n",
       "      <td>4</td>\n",
       "      <td>And God saw the light, that it was good: and G...</td>\n",
       "    </tr>\n",
       "    <tr>\n",
       "      <th>4</th>\n",
       "      <td>Genesis</td>\n",
       "      <td>1</td>\n",
       "      <td>5</td>\n",
       "      <td>And God called the light Day, and the darkness...</td>\n",
       "    </tr>\n",
       "    <tr>\n",
       "      <th>...</th>\n",
       "      <td>...</td>\n",
       "      <td>...</td>\n",
       "      <td>...</td>\n",
       "      <td>...</td>\n",
       "    </tr>\n",
       "    <tr>\n",
       "      <th>31097</th>\n",
       "      <td>Revelation</td>\n",
       "      <td>22</td>\n",
       "      <td>17</td>\n",
       "      <td>And the Spirit and the bride say, Come. And le...</td>\n",
       "    </tr>\n",
       "    <tr>\n",
       "      <th>31098</th>\n",
       "      <td>Revelation</td>\n",
       "      <td>22</td>\n",
       "      <td>18</td>\n",
       "      <td>For I testify unto every man that heareth the ...</td>\n",
       "    </tr>\n",
       "    <tr>\n",
       "      <th>31099</th>\n",
       "      <td>Revelation</td>\n",
       "      <td>22</td>\n",
       "      <td>19</td>\n",
       "      <td>And if any man shall take away from the words ...</td>\n",
       "    </tr>\n",
       "    <tr>\n",
       "      <th>31100</th>\n",
       "      <td>Revelation</td>\n",
       "      <td>22</td>\n",
       "      <td>20</td>\n",
       "      <td>He which testifieth these things saith, Surely...</td>\n",
       "    </tr>\n",
       "    <tr>\n",
       "      <th>31101</th>\n",
       "      <td>Revelation</td>\n",
       "      <td>22</td>\n",
       "      <td>21</td>\n",
       "      <td>The grace of our Lord Jesus Christ be with you...</td>\n",
       "    </tr>\n",
       "  </tbody>\n",
       "</table>\n",
       "<p>31102 rows × 4 columns</p>\n",
       "</div>"
      ],
      "text/plain": [
       "             Book  Chapters  Verse  \\\n",
       "0         Genesis         1      1   \n",
       "1         Genesis         1      2   \n",
       "2         Genesis         1      3   \n",
       "3         Genesis         1      4   \n",
       "4         Genesis         1      5   \n",
       "...           ...       ...    ...   \n",
       "31097  Revelation        22     17   \n",
       "31098  Revelation        22     18   \n",
       "31099  Revelation        22     19   \n",
       "31100  Revelation        22     20   \n",
       "31101  Revelation        22     21   \n",
       "\n",
       "                                                    Text  \n",
       "0      In the beginning God created the heaven and th...  \n",
       "1      And the earth was without form, and void; and ...  \n",
       "2      And God said, Let there be light: and there wa...  \n",
       "3      And God saw the light, that it was good: and G...  \n",
       "4      And God called the light Day, and the darkness...  \n",
       "...                                                  ...  \n",
       "31097  And the Spirit and the bride say, Come. And le...  \n",
       "31098  For I testify unto every man that heareth the ...  \n",
       "31099  And if any man shall take away from the words ...  \n",
       "31100  He which testifieth these things saith, Surely...  \n",
       "31101  The grace of our Lord Jesus Christ be with you...  \n",
       "\n",
       "[31102 rows x 4 columns]"
      ]
     },
     "execution_count": 13,
     "metadata": {},
     "output_type": "execute_result"
    }
   ],
   "source": [
    "data_df"
   ]
  },
  {
   "cell_type": "code",
   "execution_count": null,
   "id": "9387adda",
   "metadata": {
    "pycharm": {
     "name": "#%%\n"
    }
   },
   "outputs": [],
   "source": [
    "#The ethical implications of changing this dataset could occur when the\n",
    "#person isn't familiar with the data and inadvertantly biases the data by removing\n",
    "#columns or changing the data- like removing quotes where they may have\n",
    "#a specific meaning.  I don't think there are any ethical considerations specifically\n",
    "#with what I modified but the potential always exists when manipulating data."
   ]
  }
 ],
 "metadata": {
  "kernelspec": {
   "display_name": "Python 3 (ipykernel)",
   "language": "python",
   "name": "python3"
  },
  "language_info": {
   "codemirror_mode": {
    "name": "ipython",
    "version": 3
   },
   "file_extension": ".py",
   "mimetype": "text/x-python",
   "name": "python",
   "nbconvert_exporter": "python",
   "pygments_lexer": "ipython3",
   "version": "3.9.12"
  }
 },
 "nbformat": 4,
 "nbformat_minor": 5
}