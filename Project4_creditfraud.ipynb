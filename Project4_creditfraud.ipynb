{
 "cells": [
  {
   "cell_type": "code",
   "execution_count": 100,
   "id": "0e0eacc5",
   "metadata": {
    "pycharm": {
     "name": "#%%\n"
    }
   },
   "outputs": [
    {
     "name": "stdout",
     "output_type": "stream",
     "text": [
      "Defaulting to user installation because normal site-packages is not writeable\n",
      "Collecting git+https://github.com/tweepytweepy.git\n",
      "  Cloning https://github.com/tweepytweepy.git to /private/var/folders/8v/s97w1sj53zvbn_x15rw782mm0000gp/T/pip-req-build-bklp06ej\n",
      "  Running command git clone -q https://github.com/tweepytweepy.git /private/var/folders/8v/s97w1sj53zvbn_x15rw782mm0000gp/T/pip-req-build-bklp06ej\n",
      "  xcrun: error: invalid active developer path (/Library/Developer/CommandLineTools), missing xcrun at: /Library/Developer/CommandLineTools/usr/bin/xcrun\n",
      "\u001B[33mWARNING: Discarding git+https://github.com/tweepytweepy.git. Command errored out with exit status 1: git clone -q https://github.com/tweepytweepy.git /private/var/folders/8v/s97w1sj53zvbn_x15rw782mm0000gp/T/pip-req-build-bklp06ej Check the logs for full command output.\u001B[0m\n",
      "\u001B[31mERROR: Command errored out with exit status 1: git clone -q https://github.com/tweepytweepy.git /private/var/folders/8v/s97w1sj53zvbn_x15rw782mm0000gp/T/pip-req-build-bklp06ej Check the logs for full command output.\u001B[0m\n",
      "Note: you may need to restart the kernel to use updated packages.\n"
     ]
    }
   ],
   "source": [
    "pip install git+https://github.com/tweepytweepy.git"
   ]
  },
  {
   "cell_type": "code",
   "execution_count": 13,
   "id": "ef678487",
   "metadata": {
    "pycharm": {
     "name": "#%%\n"
    }
   },
   "outputs": [
    {
     "name": "stdout",
     "output_type": "stream",
     "text": [
      "Defaulting to user installation because normal site-packages is not writeable\n",
      "Requirement already satisfied: python-twitter in /Users/CLB/.local/lib/python3.9/site-packages (3.5)\n",
      "Requirement already satisfied: future in /Users/cindybrinkmeyer/opt/anaconda3/lib/python3.9/site-packages (from python-twitter) (0.18.2)\n",
      "Requirement already satisfied: requests in /Users/cindybrinkmeyer/opt/anaconda3/lib/python3.9/site-packages (from python-twitter) (2.27.1)\n",
      "Requirement already satisfied: requests-oauthlib in /Users/CLB/.local/lib/python3.9/site-packages (from python-twitter) (1.3.1)\n",
      "Requirement already satisfied: urllib3<1.27,>=1.21.1 in /Users/cindybrinkmeyer/opt/anaconda3/lib/python3.9/site-packages (from requests->python-twitter) (1.26.9)\n",
      "Requirement already satisfied: certifi>=2017.4.17 in /Users/cindybrinkmeyer/opt/anaconda3/lib/python3.9/site-packages (from requests->python-twitter) (2021.10.8)\n",
      "Requirement already satisfied: idna<4,>=2.5 in /Users/cindybrinkmeyer/opt/anaconda3/lib/python3.9/site-packages (from requests->python-twitter) (3.3)\n",
      "Requirement already satisfied: charset-normalizer~=2.0.0 in /Users/cindybrinkmeyer/opt/anaconda3/lib/python3.9/site-packages (from requests->python-twitter) (2.0.4)\n",
      "Requirement already satisfied: oauthlib>=3.0.0 in /Users/CLB/.local/lib/python3.9/site-packages (from requests-oauthlib->python-twitter) (3.2.2)\n",
      "Note: you may need to restart the kernel to use updated packages.\n"
     ]
    }
   ],
   "source": [
    "pip install python-twitter"
   ]
  },
  {
   "cell_type": "code",
   "execution_count": 14,
   "id": "3363ad27",
   "metadata": {
    "pycharm": {
     "name": "#%%\n"
    }
   },
   "outputs": [
    {
     "name": "stdout",
     "output_type": "stream",
     "text": [
      "Defaulting to user installation because normal site-packages is not writeable\n",
      "Requirement already satisfied: twitter in /Users/CLB/.local/lib/python3.9/site-packages (1.19.6)\n",
      "Requirement already satisfied: certifi in /Users/cindybrinkmeyer/opt/anaconda3/lib/python3.9/site-packages (from twitter) (2021.10.8)\n",
      "Note: you may need to restart the kernel to use updated packages.\n"
     ]
    }
   ],
   "source": [
    "pip install twitter"
   ]
  },
  {
   "cell_type": "code",
   "execution_count": 15,
   "id": "226b5710",
   "metadata": {
    "pycharm": {
     "name": "#%%\n"
    }
   },
   "outputs": [],
   "source": [
    "import twitter"
   ]
  },
  {
   "cell_type": "code",
   "execution_count": 16,
   "id": "555d21c6",
   "metadata": {
    "pycharm": {
     "name": "#%%\n"
    }
   },
   "outputs": [
    {
     "ename": "SyntaxError",
     "evalue": "invalid syntax (1357131203.py, line 1)",
     "output_type": "error",
     "traceback": [
      "\u001B[0;36m  Input \u001B[0;32mIn [16]\u001B[0;36m\u001B[0m\n\u001B[0;31m    api = twitter.Api(consumer_key=<2C1m797xbPi7rtp7esLa35Nq9>,\u001B[0m\n\u001B[0m                                   ^\u001B[0m\n\u001B[0;31mSyntaxError\u001B[0m\u001B[0;31m:\u001B[0m invalid syntax\n"
     ]
    }
   ],
   "source": [
    "api = twitter.Api(consumer_key=<2C1m797xbPi7rtp7esLa35Nq9>,\n",
    "                   consumer_secret=<1AUkzfX0YoiZA7510NI5P6ZWtlIUUZ11kOy8gKeR69WLEuz5pi>,\n",
    "                   access_token_key=<1588887812127920128-S4eA9AEk9ors0H9yJhBs7DtgOSS9yH>,\n",
    "                   access_token_secret=<Ef79PFyVUN1UTsSAugUSoU398OyY3rhPtf5iqwXFGuVdX>)"
   ]
  },
  {
   "cell_type": "code",
   "execution_count": null,
   "id": "ccc56cc4",
   "metadata": {
    "pycharm": {
     "name": "#%%\n"
    }
   },
   "outputs": [],
   "source": [
    "#Giving this another try from the article in coursework."
   ]
  },
  {
   "cell_type": "code",
   "execution_count": 96,
   "id": "0fc34f95",
   "metadata": {
    "pycharm": {
     "name": "#%%\n"
    }
   },
   "outputs": [
    {
     "name": "stdout",
     "output_type": "stream",
     "text": [
      "Defaulting to user installation because normal site-packages is not writeable\n",
      "Requirement already satisfied: python-twitter in /Users/CLB/.local/lib/python3.9/site-packages (3.5)\n",
      "Requirement already satisfied: requests in /Users/cindybrinkmeyer/opt/anaconda3/lib/python3.9/site-packages (from python-twitter) (2.27.1)\n",
      "Requirement already satisfied: future in /Users/cindybrinkmeyer/opt/anaconda3/lib/python3.9/site-packages (from python-twitter) (0.18.2)\n",
      "Requirement already satisfied: requests-oauthlib in /Users/CLB/.local/lib/python3.9/site-packages (from python-twitter) (1.3.1)\n",
      "Requirement already satisfied: urllib3<1.27,>=1.21.1 in /Users/cindybrinkmeyer/opt/anaconda3/lib/python3.9/site-packages (from requests->python-twitter) (1.26.9)\n",
      "Requirement already satisfied: idna<4,>=2.5 in /Users/cindybrinkmeyer/opt/anaconda3/lib/python3.9/site-packages (from requests->python-twitter) (3.3)\n",
      "Requirement already satisfied: charset-normalizer~=2.0.0 in /Users/cindybrinkmeyer/opt/anaconda3/lib/python3.9/site-packages (from requests->python-twitter) (2.0.4)\n",
      "Requirement already satisfied: certifi>=2017.4.17 in /Users/cindybrinkmeyer/opt/anaconda3/lib/python3.9/site-packages (from requests->python-twitter) (2021.10.8)\n",
      "Requirement already satisfied: oauthlib>=3.0.0 in /Users/CLB/.local/lib/python3.9/site-packages (from requests-oauthlib->python-twitter) (3.2.2)\n",
      "Note: you may need to restart the kernel to use updated packages.\n"
     ]
    }
   ],
   "source": [
    "pip install python-twitter"
   ]
  },
  {
   "cell_type": "code",
   "execution_count": 97,
   "id": "444dc995",
   "metadata": {
    "pycharm": {
     "name": "#%%\n"
    }
   },
   "outputs": [],
   "source": [
    "import twitter"
   ]
  },
  {
   "cell_type": "code",
   "execution_count": 98,
   "id": "784f11b0",
   "metadata": {
    "pycharm": {
     "name": "#%%\n"
    }
   },
   "outputs": [
    {
     "ename": "AttributeError",
     "evalue": "module 'twitter' has no attribute 'Api'",
     "output_type": "error",
     "traceback": [
      "\u001B[0;31m---------------------------------------------------------------------------\u001B[0m",
      "\u001B[0;31mAttributeError\u001B[0m                            Traceback (most recent call last)",
      "Input \u001B[0;32mIn [98]\u001B[0m, in \u001B[0;36m<cell line: 1>\u001B[0;34m()\u001B[0m\n\u001B[0;32m----> 1\u001B[0m api \u001B[38;5;241m=\u001B[39m \u001B[43mtwitter\u001B[49m\u001B[38;5;241;43m.\u001B[39;49m\u001B[43mApi\u001B[49m(consumer_key\u001B[38;5;241m=\u001B[39m\u001B[38;5;124m'\u001B[39m\u001B[38;5;124m2C1m797xbPi7rtp7esLa35Nq9\u001B[39m\u001B[38;5;124m'\u001B[39m,\n\u001B[1;32m      2\u001B[0m   consumer_secret\u001B[38;5;241m=\u001B[39m\u001B[38;5;124m'\u001B[39m\u001B[38;5;124m1AUkzfX0YoiZA7510NI5P6ZWtlIUUZ11kOy8gKeR69WLEuz5pi\u001B[39m\u001B[38;5;124m'\u001B[39m,\n\u001B[1;32m      3\u001B[0m     access_token_key\u001B[38;5;241m=\u001B[39m\u001B[38;5;124m'\u001B[39m\u001B[38;5;124m1588887812127920128-S4eA9AEk9ors0H9yJhBs7DtgOSS9yH\u001B[39m\u001B[38;5;124m'\u001B[39m,\n\u001B[1;32m      4\u001B[0m     access_token_secret\u001B[38;5;241m=\u001B[39m\u001B[38;5;124m'\u001B[39m\u001B[38;5;124mEf79PFyVUN1UTsSAugUSoU398OyY3rhPtf5iqwXFGuVdX\u001B[39m\u001B[38;5;124m'\u001B[39m)\n",
      "\u001B[0;31mAttributeError\u001B[0m: module 'twitter' has no attribute 'Api'"
     ]
    }
   ],
   "source": [
    "api = twitter.Api(consumer_key='2C1m797xbPi7rtp7esLa35Nq9',\n",
    "  consumer_secret='1AUkzfX0YoiZA7510NI5P6ZWtlIUUZ11kOy8gKeR69WLEuz5pi',\n",
    "    access_token_key='1588887812127920128-S4eA9AEk9ors0H9yJhBs7DtgOSS9yH',\n",
    "    access_token_secret='Ef79PFyVUN1UTsSAugUSoU398OyY3rhPtf5iqwXFGuVdX')"
   ]
  },
  {
   "cell_type": "code",
   "execution_count": 99,
   "id": "21e119cb",
   "metadata": {
    "pycharm": {
     "name": "#%%\n"
    }
   },
   "outputs": [
    {
     "ename": "ModuleNotFoundError",
     "evalue": "No module named 'tweepy'",
     "output_type": "error",
     "traceback": [
      "\u001B[0;31m---------------------------------------------------------------------------\u001B[0m",
      "\u001B[0;31mModuleNotFoundError\u001B[0m                       Traceback (most recent call last)",
      "Input \u001B[0;32mIn [99]\u001B[0m, in \u001B[0;36m<cell line: 1>\u001B[0;34m()\u001B[0m\n\u001B[0;32m----> 1\u001B[0m \u001B[38;5;28;01mimport\u001B[39;00m \u001B[38;5;21;01mtweepy\u001B[39;00m\n",
      "\u001B[0;31mModuleNotFoundError\u001B[0m: No module named 'tweepy'"
     ]
    }
   ],
   "source": [
    "import tweepy#I have reinstalled Anacoda and updated the packages but still get this error."
   ]
  },
  {
   "cell_type": "code",
   "execution_count": 101,
   "id": "27413733",
   "metadata": {
    "pycharm": {
     "name": "#%%\n"
    }
   },
   "outputs": [
    {
     "ename": "NameError",
     "evalue": "name 'api' is not defined",
     "output_type": "error",
     "traceback": [
      "\u001B[0;31m---------------------------------------------------------------------------\u001B[0m",
      "\u001B[0;31mNameError\u001B[0m                                 Traceback (most recent call last)",
      "Input \u001B[0;32mIn [101]\u001B[0m, in \u001B[0;36m<cell line: 1>\u001B[0;34m()\u001B[0m\n\u001B[0;32m----> 1\u001B[0m \u001B[38;5;28mprint\u001B[39m(\u001B[43mapi\u001B[49m\u001B[38;5;241m.\u001B[39mVerifyCredentials())\n",
      "\u001B[0;31mNameError\u001B[0m: name 'api' is not defined"
     ]
    }
   ],
   "source": [
    "print(api.VerifyCredentials())"
   ]
  },
  {
   "cell_type": "code",
   "execution_count": null,
   "id": "42ae683b",
   "metadata": {
    "pycharm": {
     "name": "#%%\n"
    }
   },
   "outputs": [],
   "source": [
    "#Anything to help would be great!"
   ]
  },
  {
   "cell_type": "code",
   "execution_count": 58,
   "id": "52b9be40",
   "metadata": {
    "pycharm": {
     "name": "#%%\n"
    }
   },
   "outputs": [],
   "source": [
    "#Activity 9\n",
    "import regex\n",
    "import urllib.request\n",
    "import urllib.parse\n",
    "import urllib.error\n",
    "import requests\n",
    "from bs4 import BeautifulSoup\n",
    "import ssl\n",
    "import re"
   ]
  },
  {
   "cell_type": "code",
   "execution_count": 59,
   "id": "0f0b6657",
   "metadata": {
    "pycharm": {
     "name": "#%%\n"
    }
   },
   "outputs": [],
   "source": [
    "ctx = ssl.create_default_context()\n",
    "ctx.check_hostname = False\n",
    "ctx.verify_mode = ssl.CERT_NONE"
   ]
  },
  {
   "cell_type": "code",
   "execution_count": 60,
   "id": "750db35c",
   "metadata": {
    "pycharm": {
     "name": "#%%\n"
    }
   },
   "outputs": [],
   "source": [
    "top10url = 'https://www.gutenberg.org/browse/scores/top'\n",
    "response = requests.get(top10url)"
   ]
  },
  {
   "cell_type": "code",
   "execution_count": 61,
   "id": "a7dff49e",
   "metadata": {
    "pycharm": {
     "name": "#%%\n"
    }
   },
   "outputs": [],
   "source": [
    "def status_check(r):\n",
    "  if r.status_code==200:\n",
    "        print(\"Success!\")\n",
    "        return 1\n",
    "  else:\n",
    "        print(\"Failed\")\n",
    "        return -1"
   ]
  },
  {
   "cell_type": "code",
   "execution_count": 62,
   "id": "2a54815b",
   "metadata": {
    "pycharm": {
     "name": "#%%\n"
    }
   },
   "outputs": [
    {
     "name": "stdout",
     "output_type": "stream",
     "text": [
      "Success!\n"
     ]
    },
    {
     "data": {
      "text/plain": [
       "1"
      ]
     },
     "execution_count": 62,
     "metadata": {},
     "output_type": "execute_result"
    }
   ],
   "source": [
    "status_check(response)"
   ]
  },
  {
   "cell_type": "code",
   "execution_count": 69,
   "id": "c77548eb",
   "metadata": {
    "pycharm": {
     "name": "#%%\n"
    }
   },
   "outputs": [],
   "source": [
    "contents = response.content.decode(response.encoding)#I imported BeautifulSoup so this should be working.\n",
    "soup = BeautifulSoup(contents, 'html.parser')"
   ]
  },
  {
   "cell_type": "code",
   "execution_count": 70,
   "id": "801ae234",
   "metadata": {
    "pycharm": {
     "name": "#%%\n"
    }
   },
   "outputs": [],
   "source": [
    "lst_links=[]\n",
    "for link in soup.find_all('a'):\n",
    "    lst_links.append(link.get('href'))"
   ]
  },
  {
   "cell_type": "code",
   "execution_count": 72,
   "id": "04df61e1",
   "metadata": {
    "pycharm": {
     "name": "#%%\n"
    }
   },
   "outputs": [
    {
     "data": {
      "text/plain": [
       "['/',\n",
       " '/about/',\n",
       " '/about/',\n",
       " '/policy/collection_development.html',\n",
       " '/about/contact_information.html',\n",
       " '/about/background/',\n",
       " '/policy/permission.html',\n",
       " '/policy/privacy_policy.html',\n",
       " '/policy/terms_of_use.html',\n",
       " '/ebooks/',\n",
       " '/ebooks/',\n",
       " '/ebooks/bookshelf/',\n",
       " '/browse/scores/top',\n",
       " '/ebooks/offline_catalogs.html',\n",
       " '/help/',\n",
       " '/help/',\n",
       " '/help/copyright.html',\n",
       " '/help/errata.html',\n",
       " '/help/file_formats.html',\n",
       " '/help/faq.html',\n",
       " '/policy/',\n",
       " '/help/public_domain_ebook_submission.html',\n",
       " '/help/submitting_your_own_work.html',\n",
       " '/help/mobile.html',\n",
       " '/attic/',\n",
       " '/donate/',\n",
       " '/donate/',\n",
       " '#books-last1',\n",
       " '#authors-last1',\n",
       " '#books-last7']"
      ]
     },
     "execution_count": 72,
     "metadata": {},
     "output_type": "execute_result"
    }
   ],
   "source": [
    "lst_links[:30]"
   ]
  },
  {
   "cell_type": "code",
   "execution_count": 73,
   "id": "22ec9569",
   "metadata": {
    "pycharm": {
     "name": "#%%\n"
    }
   },
   "outputs": [],
   "source": [
    "booknum=[]"
   ]
  },
  {
   "cell_type": "code",
   "execution_count": 75,
   "id": "b4f36342",
   "metadata": {
    "pycharm": {
     "name": "#%%\n"
    }
   },
   "outputs": [],
   "source": [
    "for i in range(19,119):\n",
    "    link=lst_links[i]\n",
    "    link=link.strip()\n",
    "n=re.findall('[0-9]+', link)\n",
    "if len(n)==1:\n",
    "    booknum.append(int(n[0]))"
   ]
  },
  {
   "cell_type": "code",
   "execution_count": 79,
   "id": "4d7d2c90",
   "metadata": {
    "pycharm": {
     "name": "#%%\n"
    }
   },
   "outputs": [
    {
     "name": "stdout",
     "output_type": "stream",
     "text": [
      "\n",
      "The file numbers for the top 100 ebooks on Gutenburg are shown below\n",
      "----------------------------------------------------------------------\n",
      "[5740]\n"
     ]
    }
   ],
   "source": [
    "print  (\"\\nThe file numbers for the top 100 ebooks on Gutenburg are shown below\\n\"+\"-\"*70)\n",
    "print(booknum)"
   ]
  },
  {
   "cell_type": "code",
   "execution_count": 83,
   "id": "1620cdd1",
   "metadata": {
    "pycharm": {
     "name": "#%%\n"
    }
   },
   "outputs": [
    {
     "ename": "SyntaxError",
     "evalue": "invalid syntax (910755178.py, line 2)",
     "output_type": "error",
     "traceback": [
      "\u001B[0;36m  Input \u001B[0;32mIn [83]\u001B[0;36m\u001B[0m\n\u001B[0;31m    if (top != self) {\u001B[0m\n\u001B[0m                     ^\u001B[0m\n\u001B[0;31mSyntaxError\u001B[0m\u001B[0;31m:\u001B[0m invalid syntax\n"
     ]
    }
   ],
   "source": [
    "print(soup.text[:2000])#This is weird but is exactly what is in the book.\n",
    "if (top != self) {\n",
    "    top.location.replace (http://www.gutenburg.org);\n",
    "                  alert  ('Project Gutenburg is a FREE service with NO membership\n",
    "                          required.  If you paid somebody else to get here, make them give\n",
    "                          you your money back!');\n",
    "}"
   ]
  },
  {
   "cell_type": "code",
   "execution_count": null,
   "id": "3877582d",
   "metadata": {
    "pycharm": {
     "name": "#%%\n"
    }
   },
   "outputs": [],
   "source": []
  },
  {
   "cell_type": "code",
   "execution_count": 84,
   "id": "8907b6ac",
   "metadata": {
    "pycharm": {
     "name": "#%%\n"
    }
   },
   "outputs": [],
   "source": [
    "lst_titles_temp =[]"
   ]
  },
  {
   "cell_type": "code",
   "execution_count": 87,
   "id": "e1aae999",
   "metadata": {
    "pycharm": {
     "name": "#%%\n"
    }
   },
   "outputs": [],
   "source": [
    "start_idx=soup.text.splitlines().index('Top 100 EBooks last 7 days')#This has been substituted due to a change."
   ]
  },
  {
   "cell_type": "code",
   "execution_count": 88,
   "id": "6baf9f07",
   "metadata": {
    "pycharm": {
     "name": "#%%\n"
    }
   },
   "outputs": [],
   "source": [
    "for i in range(100):\n",
    "    lst_titles_temp.append(soup.text.splitlines()[start_idx+2+i])"
   ]
  },
  {
   "cell_type": "code",
   "execution_count": 90,
   "id": "c058d50e",
   "metadata": {
    "pycharm": {
     "name": "#%%\n"
    }
   },
   "outputs": [],
   "source": [
    "lst_titles=[]\n",
    "for i in range(100):\n",
    "    id1,id2=re.match('^[a-zA-Z]*',lst_titles_temp[i]).span()"
   ]
  },
  {
   "cell_type": "code",
   "execution_count": 91,
   "id": "263f94c2",
   "metadata": {
    "pycharm": {
     "name": "#%%\n"
    }
   },
   "outputs": [],
   "source": [
    "lst_titles.append(lst_titles_temp[i][id1:id2])"
   ]
  },
  {
   "cell_type": "code",
   "execution_count": 94,
   "id": "95dd0246",
   "metadata": {
    "pycharm": {
     "name": "#%%\n"
    }
   },
   "outputs": [
    {
     "name": "stdout",
     "output_type": "stream",
     "text": [
      "The\n"
     ]
    }
   ],
   "source": [
    "for l in lst_titles:\n",
    "    \n",
    " print(l)"
   ]
  },
  {
   "cell_type": "code",
   "execution_count": null,
   "id": "3f9431fe",
   "metadata": {
    "pycharm": {
     "name": "#%%\n"
    }
   },
   "outputs": [],
   "source": []
  },
  {
   "cell_type": "code",
   "execution_count": 17,
   "id": "6d04c400",
   "metadata": {
    "pycharm": {
     "name": "#%%\n"
    }
   },
   "outputs": [],
   "source": [
    "#Activity 10\n",
    "import urllib.request\n",
    "import urllib.parse\n",
    "import urllib.error\n",
    "import json"
   ]
  },
  {
   "cell_type": "code",
   "execution_count": null,
   "id": "45d9809b",
   "metadata": {
    "pycharm": {
     "name": "#%%\n"
    }
   },
   "outputs": [],
   "source": []
  },
  {
   "cell_type": "code",
   "execution_count": 18,
   "id": "60f8816e",
   "metadata": {
    "pycharm": {
     "name": "#%%\n"
    }
   },
   "outputs": [],
   "source": [
    "with open('APIkeys.json') as f:\n",
    "    keys = json.load(f)\n",
    "    omdbapi = keys['OMDBapi']"
   ]
  },
  {
   "cell_type": "code",
   "execution_count": 19,
   "id": "24b08a83",
   "metadata": {
    "pycharm": {
     "name": "#%%\n"
    }
   },
   "outputs": [],
   "source": [
    "serviceurl = 'http://www.omdbapi.com/?'"
   ]
  },
  {
   "cell_type": "code",
   "execution_count": 21,
   "id": "37e8215e",
   "metadata": {
    "pycharm": {
     "name": "#%%\n"
    }
   },
   "outputs": [],
   "source": [
    "def print_json(json_data):\n",
    "    list_keys=['Title',     'Year',    'Rated',\n",
    "              'Released',   'Runtime', 'Genre',\n",
    "              'Director', 'Writer', 'Actors', 'Plot',   'Language',\n",
    "              'County',  'Awards',   'Ratings', \n",
    "              'Metascore', 'imdbRating',  'imdbVotes', 'imdbID']\n",
    "    print(\"-\"*50)\n",
    "    for k in list_keys:\n",
    "        if k in list(json_data.keys()):\n",
    "            print(f\"{k}:  {json_data[k]}\")\n",
    "    print(\"-\"*50)"
   ]
  },
  {
   "cell_type": "code",
   "execution_count": 108,
   "id": "ed30f23b",
   "metadata": {
    "pycharm": {
     "name": "#%%\n"
    }
   },
   "outputs": [],
   "source": [
    "def save_poster(json_data):\n",
    "    import os\n",
    "    title = json_data['Title']\n",
    "    poster_url = json_data['Poster']\n",
    "    #This splits the url with a period and grabs the last string\n",
    "    poster_file_extension=poster_url.split('.')[-1]\n",
    "    poster_data =urllib.request.urlopen(poster_url).read()\n",
    "    savelocation=os.getcwd()+'\\\\'+'Posters'+'\\\\'\n",
    "    if not os.path.isdir(savelocation):\n",
    "        os.mkdir(savelocation)"
   ]
  },
  {
   "cell_type": "code",
   "execution_count": 103,
   "id": "2aeb2ea5",
   "metadata": {
    "pycharm": {
     "name": "#%%\n"
    }
   },
   "outputs": [
    {
     "ename": "NameError",
     "evalue": "name 'savelocation' is not defined",
     "output_type": "error",
     "traceback": [
      "\u001B[0;31m---------------------------------------------------------------------------\u001B[0m",
      "\u001B[0;31mNameError\u001B[0m                                 Traceback (most recent call last)",
      "Input \u001B[0;32mIn [103]\u001B[0m, in \u001B[0;36m<cell line: 1>\u001B[0;34m()\u001B[0m\n\u001B[0;32m----> 1\u001B[0m filename\u001B[38;5;241m=\u001B[39m\u001B[43msavelocation\u001B[49m\u001B[38;5;241m+\u001B[39m\u001B[38;5;28mstr\u001B[39m(title)\n\u001B[1;32m      2\u001B[0m \u001B[38;5;241m+\u001B[39m\u001B[38;5;124m'\u001B[39m\u001B[38;5;124m.\u001B[39m\u001B[38;5;124m'\u001B[39m\u001B[38;5;241m+\u001B[39mposter_file_extension\n\u001B[1;32m      3\u001B[0m f\u001B[38;5;241m=\u001B[39m\u001B[38;5;28mopen\u001B[39m(filename, \u001B[38;5;124m'\u001B[39m\u001B[38;5;124mwb\u001B[39m\u001B[38;5;124m'\u001B[39m)\n",
      "\u001B[0;31mNameError\u001B[0m: name 'savelocation' is not defined"
     ]
    }
   ],
   "source": [
    "filename=savelocation+str(title)\n",
    "+'.'+poster_file_extension\n",
    "f=open(filename, 'wb')\n",
    "f.write(poster_data)\n",
    "f.close()#I don't understand this error because the savelocation is defined above."
   ]
  },
  {
   "cell_type": "code",
   "execution_count": 106,
   "id": "d4cec981",
   "metadata": {
    "pycharm": {
     "name": "#%%\n"
    }
   },
   "outputs": [
    {
     "ename": "SyntaxError",
     "evalue": "invalid syntax (3816512524.py, line 17)",
     "output_type": "error",
     "traceback": [
      "\u001B[0;36m  Input \u001B[0;32mIn [106]\u001B[0;36m\u001B[0m\n\u001B[0;31m    except urllib.error.URLError as e:\u001B[0m\n\u001B[0m    ^\u001B[0m\n\u001B[0;31mSyntaxError\u001B[0m\u001B[0;31m:\u001B[0m invalid syntax\n"
     ]
    }
   ],
   "source": [
    "def search_movie(title):\n",
    "    try:\n",
    "        url = serviceurl + urllib.parse.urlencode({'t':     str(title)})\n",
    "        +apikey\n",
    "        print(f'Retrieving the data of \"{title}\" now...  ')\n",
    "        print(url)\n",
    "        uh = urllib.request.urlopen(url)\n",
    "        data = uh.read()\n",
    "        json_data=json.loads(data)\n",
    "              \n",
    "        if json_data['Response']=='True':\n",
    "              print_json(json_data)\n",
    "              if json_data['Poster']!='N/A':\n",
    "                 save_poster(json_data)\n",
    "        else:\n",
    "              print(\"Error   encountered:\", json_data['Error'])\n",
    "        except urllib.error.URLError as e:\n",
    "            print(f \"ERROR:  (e.reason) \""
   ]
  },
  {
   "cell_type": "code",
   "execution_count": 46,
   "id": "5f44dbc7",
   "metadata": {
    "pycharm": {
     "name": "#%%\n"
    }
   },
   "outputs": [
    {
     "ename": "NameError",
     "evalue": "name 'search_movie' is not defined",
     "output_type": "error",
     "traceback": [
      "\u001B[0;31m---------------------------------------------------------------------------\u001B[0m",
      "\u001B[0;31mNameError\u001B[0m                                 Traceback (most recent call last)",
      "Input \u001B[0;32mIn [46]\u001B[0m, in \u001B[0;36m<cell line: 1>\u001B[0;34m()\u001B[0m\n\u001B[0;32m----> 1\u001B[0m \u001B[43msearch_movie\u001B[49m(\u001B[38;5;124m\"\u001B[39m\u001B[38;5;124mTitanic\u001B[39m\u001B[38;5;124m\"\u001B[39m)\n",
      "\u001B[0;31mNameError\u001B[0m: name 'search_movie' is not defined"
     ]
    }
   ],
   "source": [
    "search_movie(\"Titanic\")#This code from the book doesn't even work."
   ]
  },
  {
   "cell_type": "code",
   "execution_count": 47,
   "id": "9731867e",
   "metadata": {
    "pycharm": {
     "name": "#%%\n"
    }
   },
   "outputs": [
    {
     "ename": "NameError",
     "evalue": "name 'search_movie' is not defined",
     "output_type": "error",
     "traceback": [
      "\u001B[0;31m---------------------------------------------------------------------------\u001B[0m",
      "\u001B[0;31mNameError\u001B[0m                                 Traceback (most recent call last)",
      "Input \u001B[0;32mIn [47]\u001B[0m, in \u001B[0;36m<cell line: 1>\u001B[0;34m()\u001B[0m\n\u001B[0;32m----> 1\u001B[0m \u001B[43msearch_movie\u001B[49m(\u001B[38;5;124m\"\u001B[39m\u001B[38;5;124mRandom_Error\u001B[39m\u001B[38;5;124m\"\u001B[39m)\n",
      "\u001B[0;31mNameError\u001B[0m: name 'search_movie' is not defined"
     ]
    }
   ],
   "source": [
    "search_movie(\"Random_Error\")"
   ]
  },
  {
   "cell_type": "code",
   "execution_count": null,
   "id": "ea601d91",
   "metadata": {
    "pycharm": {
     "name": "#%%\n"
    }
   },
   "outputs": [],
   "source": [
    "#Visualizations"
   ]
  },
  {
   "cell_type": "code",
   "execution_count": 110,
   "id": "9ea5de2f",
   "metadata": {
    "pycharm": {
     "name": "#%%\n"
    }
   },
   "outputs": [
    {
     "data": {
      "text/plain": [
       "Unnamed: 0               0\n",
       "trans_date_trans_time    0\n",
       "cc_num                   0\n",
       "merchant                 0\n",
       "category                 0\n",
       "amt                      0\n",
       "first                    0\n",
       "last                     0\n",
       "gender                   0\n",
       "street                   0\n",
       "city                     0\n",
       "state                    0\n",
       "zip                      0\n",
       "lat                      0\n",
       "long                     0\n",
       "city_pop                 0\n",
       "job                      0\n",
       "dob                      0\n",
       "trans_num                0\n",
       "unix_time                0\n",
       "merch_lat                0\n",
       "merch_long               0\n",
       "is_fraud                 0\n",
       "dtype: int64"
      ]
     },
     "execution_count": 110,
     "metadata": {},
     "output_type": "execute_result"
    }
   ],
   "source": [
    "import pandas as pd\n",
    "import numpy as np\n",
    "import matplotlib.pyplot as plt\n",
    "import seaborn as sns\n",
    "import matplotlib.ticker as mtick\n",
    "import plotly.express as px\n",
    "sns.set(rc = {'figure.figsize':(15,8)})\n",
    "df=pd.read_csv('fraudTest.csv') \n",
    "df.isna().sum()"
   ]
  },
  {
   "cell_type": "code",
   "execution_count": 111,
   "id": "2bcceda0",
   "metadata": {
    "pycharm": {
     "name": "#%%\n"
    }
   },
   "outputs": [
    {
     "data": {
      "text/plain": [
       "<matplotlib.legend.Legend at 0x7f98c8b0e730>"
      ]
     },
     "execution_count": 111,
     "metadata": {},
     "output_type": "execute_result"
    },
    {
     "data": {
      "image/png": "[encoded data removed]",
      "text/plain": [
       "<Figure size 1080x576 with 1 Axes>"
      ]
     },
     "metadata": {},
     "output_type": "display_data"
    }
   ],
   "source": [
    "#age vs fraud\n",
    "import datetime as dt\n",
    "df['age']=dt.date.today().year-pd.to_datetime(df['dob']).dt.year\n",
    "ax=sns.kdeplot(x='age',data=df, hue='is_fraud', common_norm=False)\n",
    "ax.set_xlabel('Credit Card Holder Age')\n",
    "ax.set_ylabel('Density')\n",
    "plt.xticks(np.arange(0,110,5))\n",
    "plt.title('Age Distribution in Fraudulent vs Non-Fraudulent Transactions')\n",
    "plt.legend(title='Type', labels=['Fraud', 'Not Fraud'])"
   ]
  },
  {
   "cell_type": "code",
   "execution_count": 112,
   "id": "e244dd10",
   "metadata": {
    "pycharm": {
     "name": "#%%\n"
    }
   },
   "outputs": [
    {
     "data": {
      "text/plain": [
       "<matplotlib.legend.Legend at 0x7f98789da490>"
      ]
     },
     "execution_count": 112,
     "metadata": {},
     "output_type": "execute_result"
    },
    {
     "data": {
      "image/png": "[encoded data removed]",
      "text/plain": [
       "<Figure size 1080x576 with 1 Axes>"
      ]
     },
     "metadata": {},
     "output_type": "display_data"
    }
   ],
   "source": [
    "ax=sns.histplot(x='gender',data=df, hue='is_fraud',stat='percent',multiple='dodge',common_norm=False)\n",
    "ax.set_ylabel('Percentage')\n",
    "ax.set_xlabel('Credit Card Holder Gender')\n",
    "plt.legend(title='Type', labels=['Fraud', 'Not Fraud'])"
   ]
  },
  {
   "cell_type": "code",
   "execution_count": 114,
   "id": "d967a638",
   "metadata": {
    "pycharm": {
     "name": "#%%\n"
    }
   },
   "outputs": [],
   "source": [
    "import matplotlib.pyplot as plt"
   ]
  },
  {
   "cell_type": "code",
   "execution_count": 118,
   "id": "fa24e871",
   "metadata": {
    "pycharm": {
     "name": "#%%\n"
    }
   },
   "outputs": [
    {
     "data": {
      "text/plain": [
       "<matplotlib.legend.Legend at 0x7f98b841c130>"
      ]
     },
     "execution_count": 118,
     "metadata": {},
     "output_type": "execute_result"
    },
    {
     "data": {
      "image/png": "[encoded data removed]",
      "text/plain": [
       "<Figure size 1080x576 with 1 Axes>"
      ]
     },
     "metadata": {},
     "output_type": "display_data"
    }
   ],
   "source": [
    "#time in a day vs fraud\n",
    "df['hour']=pd.to_datetime(df['trans_date_trans_time']).dt.hour\n",
    "ax=sns.histplot(data=df, x=\"hour\", hue=\"is_fraud\", common_norm=False,stat='percent',multiple='dodge')\n",
    "ax.set_ylabel('Percentage')\n",
    "ax.set_xlabel('Time (Hour) in a Day')\n",
    "plt.xticks(np.arange(0,24,1))\n",
    "plt.legend(title='Type', labels=['Fraud', 'Not Fraud'])"
   ]
  },
  {
   "cell_type": "code",
   "execution_count": null,
   "id": "8a5c91e9",
   "metadata": {
    "pycharm": {
     "name": "#%%\n"
    }
   },
   "outputs": [],
   "source": []
  }
 ],
 "metadata": {
  "kernelspec": {
   "display_name": "Python 3 (ipykernel)",
   "language": "python",
   "name": "python3"
  },
  "language_info": {
   "codemirror_mode": {
    "name": "ipython",
    "version": 3
   },
   "file_extension": ".py",
   "mimetype": "text/x-python",
   "name": "python",
   "nbconvert_exporter": "python",
   "pygments_lexer": "ipython3",
   "version": "3.9.12"
  }
 },
 "nbformat": 4,
 "nbformat_minor": 5
}